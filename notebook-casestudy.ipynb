{
 "cells": [
  {
   "cell_type": "markdown",
   "metadata": {},
   "source": [
    "## Identifying CRISPR-Cas9 target-sites unique to heart\n",
    "\n",
    "This is the Jupyter notebook for comparing two queries sent to GT-Scan2's API, to find target-sites that are active in one tissue but inactive in the other. \n",
    "\n",
    "Our usecase here is to stimulate the growth of neutrophils, which are a type of immunecells, specifically in the heart by editing PRAMEF12, a gene that positively regulates cell proliferation. We therefore identify the CRISPR-Cas9 target sites for PRAMEF12 that are active in the heart (E083) but are inactive in primary neutrophils from peripheral blood (E030) from the human genome GRCh37."
   ]
  },
  {
   "cell_type": "markdown",
   "metadata": {},
   "source": [
    "### Getting started \n",
    "\n",
    "We start by importing the libraries for receiving the data and analyzing and plotting the results further on."
   ]
  },
  {
   "cell_type": "code",
   "execution_count": 2,
   "metadata": {},
   "outputs": [],
   "source": [
    "import datetime\n",
    "import numpy as np\n",
    "import pandas as pd\n",
    "import plotly.plotly as py\n",
    "import plotly.graph_objs as go\n",
    "import plotly\n",
    "import random\n",
    "import requests\n",
    "import seaborn as sns\n",
    "\n",
    "from pandas.io.json import json_normalize\n",
    "\n",
    "import warnings\n",
    "import numpy as np\n",
    "warnings.simplefilter(action='ignore', category=FutureWarning)\n",
    "warnings.simplefilter(action='ignore', category=UserWarning)"
   ]
  },
  {
   "cell_type": "markdown",
   "metadata": {},
   "source": [
    "### Submitting to GT-Scan2 API\n",
    "\n",
    "We submit two 'POST' requests to GT-Scan2's API using the exact same genomic regions (the PRAMEF12 gene)."
   ]
  },
  {
   "cell_type": "code",
   "execution_count": 3,
   "metadata": {},
   "outputs": [],
   "source": [
    "base_url = 'https://jqhp2vtj5k.execute-api.ap-southeast-2.amazonaws.com/prod'\n",
    "\n",
    "submit_url = '{}/submit'.format(base_url)\n",
    "\n",
    "#For analysing neutrophils tissue data\n",
    "blood_data = '''{\n",
    "  \"genome\": \"GRCh37\",\n",
    "  \"chromosome\": \"1\",\n",
    "  \"proximal\": 12775442,\n",
    "  \"distal\": 12776218,\n",
    "  \"cellLine\": \"E030\"\n",
    "}'''\n",
    "blood_post_response = requests.post(submit_url, data=blood_data)\n",
    "\n",
    "#For analysing heart tissue data\n",
    "heart_data = '''{\n",
    "  \"genome\": \"GRCh37\",\n",
    "  \"chromosome\": \"1\",\n",
    "  \"proximal\": 12775442,\n",
    "  \"distal\": 12776218,\n",
    "  \"cellLine\": \"E083\"\n",
    "}'''\n",
    "heart_post_response = requests.post(submit_url, data=heart_data)\n",
    "\n",
    "#12775442"
   ]
  },
  {
   "cell_type": "code",
   "execution_count": 4,
   "metadata": {},
   "outputs": [
    {
     "name": "stdout",
     "output_type": "stream",
     "text": [
      "Evaluated genomic space 776 bp\n"
     ]
    }
   ],
   "source": [
    "print(\"Evaluated genomic space\", 12776218-12775442, \"bp\")"
   ]
  },
  {
   "cell_type": "markdown",
   "metadata": {},
   "source": [
    "### Confirming Job Submission\n",
    "\n",
    "GT-Scan2's returns a JobID that can be used retrieve the analysis results"
   ]
  },
  {
   "cell_type": "code",
   "execution_count": 5,
   "metadata": {},
   "outputs": [
    {
     "data": {
      "text/plain": [
       "'gt7065469'"
      ]
     },
     "execution_count": 5,
     "metadata": {},
     "output_type": "execute_result"
    }
   ],
   "source": [
    "blood_job = blood_post_response.json()\n",
    "blood_id = blood_job['JobID']\n",
    "blood_id"
   ]
  },
  {
   "cell_type": "code",
   "execution_count": 6,
   "metadata": {},
   "outputs": [
    {
     "data": {
      "text/plain": [
       "'gt8075834'"
      ]
     },
     "execution_count": 6,
     "metadata": {},
     "output_type": "execute_result"
    }
   ],
   "source": [
    "heart_job = heart_post_response.json()\n",
    "heart_id = heart_job['JobID']\n",
    "heart_id"
   ]
  },
  {
   "cell_type": "markdown",
   "metadata": {
    "collapsed": true
   },
   "source": [
    "### Retrieving results\n",
    "\n",
    "We use the 'GET' function to obtain the results.\n",
    "\n",
    "Note: GT-Scan2 is a distributed system so results are subdivided and processed in parallele. The system hence releases the results as they become available, which means that in order to retrieve the full result the 'GET' function may need to be executed several times until all is retrieved (43 out of 43 targets are complete) or executed once after a waiting period of a couple of minutes. "
   ]
  },
  {
   "cell_type": "code",
   "execution_count": 25,
   "metadata": {},
   "outputs": [
    {
     "name": "stdout",
     "output_type": "stream",
     "text": [
      "158 out of 158 targets are complete.\n"
     ]
    }
   ],
   "source": [
    "blood_url = '{}/results/{}/targets'.format(base_url, blood_id)\n",
    "blood_targets_response = requests.get(blood_url)\n",
    "blood_x = blood_targets_response.json()\n",
    "\n",
    "activities = [i['activity'] != '' for i in blood_x['data']]\n",
    "print('{} out of {} targets are complete.'.format(sum(activities), len(activities)))"
   ]
  },
  {
   "cell_type": "code",
   "execution_count": 26,
   "metadata": {},
   "outputs": [
    {
     "name": "stdout",
     "output_type": "stream",
     "text": [
      "158 out of 158 targets are complete.\n"
     ]
    }
   ],
   "source": [
    "heart_url = '{}/results/{}/targets'.format(base_url, heart_id)\n",
    "heart_targets_response = requests.get(heart_url)\n",
    "heart_x = heart_targets_response.json()\n",
    "\n",
    "activities = [i['activity'] != '' for i in heart_x['data']]\n",
    "print('{} out of {} targets are complete.'.format(sum(activities), len(activities)))"
   ]
  },
  {
   "cell_type": "markdown",
   "metadata": {},
   "source": [
    "###Analyzing the data\n",
    "\n",
    "We first load the data into a pandas dataframe and removing result entries that are not relevant for this analysis"
   ]
  },
  {
   "cell_type": "code",
   "execution_count": 27,
   "metadata": {},
   "outputs": [
    {
     "data": {
      "text/html": [
       "<div>\n",
       "<table border=\"1\" class=\"dataframe\">\n",
       "  <thead>\n",
       "    <tr style=\"text-align: right;\">\n",
       "      <th></th>\n",
       "      <th>activity</th>\n",
       "      <th>gc</th>\n",
       "      <th>histones</th>\n",
       "      <th>location</th>\n",
       "      <th>ot_one</th>\n",
       "      <th>ot_three</th>\n",
       "      <th>ot_two</th>\n",
       "      <th>ot_zero</th>\n",
       "      <th>position</th>\n",
       "      <th>sequence</th>\n",
       "      <th>strand</th>\n",
       "      <th>transcription</th>\n",
       "      <th>tuscan</th>\n",
       "    </tr>\n",
       "  </thead>\n",
       "  <tbody>\n",
       "    <tr>\n",
       "      <th>0</th>\n",
       "      <td>High</td>\n",
       "      <td>8.695652</td>\n",
       "      <td>[{'name': 'h3k14ac', 'present': None}, {'name'...</td>\n",
       "      <td>12775446</td>\n",
       "      <td>0</td>\n",
       "      <td>32</td>\n",
       "      <td>3</td>\n",
       "      <td>0</td>\n",
       "      <td>4</td>\n",
       "      <td>GGAAAAACCAAGCAGTGGGGGGG</td>\n",
       "      <td>+</td>\n",
       "      <td>0</td>\n",
       "      <td>1.720964</td>\n",
       "    </tr>\n",
       "    <tr>\n",
       "      <th>1</th>\n",
       "      <td>High</td>\n",
       "      <td>8.695652</td>\n",
       "      <td>[{'name': 'h3k14ac', 'present': None}, {'name'...</td>\n",
       "      <td>12775453</td>\n",
       "      <td>0</td>\n",
       "      <td>17</td>\n",
       "      <td>2</td>\n",
       "      <td>0</td>\n",
       "      <td>11</td>\n",
       "      <td>TTGCTCACCCCCCCACTGCTTGG</td>\n",
       "      <td>-</td>\n",
       "      <td>0</td>\n",
       "      <td>1.835650</td>\n",
       "    </tr>\n",
       "    <tr>\n",
       "      <th>2</th>\n",
       "      <td>High</td>\n",
       "      <td>8.695652</td>\n",
       "      <td>[{'name': 'h3k14ac', 'present': None}, {'name'...</td>\n",
       "      <td>12775455</td>\n",
       "      <td>0</td>\n",
       "      <td>58</td>\n",
       "      <td>3</td>\n",
       "      <td>0</td>\n",
       "      <td>13</td>\n",
       "      <td>AAGCAGTGGGGGGGTGAGCAAGG</td>\n",
       "      <td>+</td>\n",
       "      <td>0</td>\n",
       "      <td>2.182512</td>\n",
       "    </tr>\n",
       "    <tr>\n",
       "      <th>3</th>\n",
       "      <td>High</td>\n",
       "      <td>8.695652</td>\n",
       "      <td>[{'name': 'h3k14ac', 'present': None}, {'name'...</td>\n",
       "      <td>12775458</td>\n",
       "      <td>0</td>\n",
       "      <td>64</td>\n",
       "      <td>0</td>\n",
       "      <td>0</td>\n",
       "      <td>16</td>\n",
       "      <td>CAGTGGGGGGGTGAGCAAGGTGG</td>\n",
       "      <td>+</td>\n",
       "      <td>0</td>\n",
       "      <td>3.013404</td>\n",
       "    </tr>\n",
       "    <tr>\n",
       "      <th>4</th>\n",
       "      <td>High</td>\n",
       "      <td>8.695652</td>\n",
       "      <td>[{'name': 'h3k14ac', 'present': None}, {'name'...</td>\n",
       "      <td>12775459</td>\n",
       "      <td>0</td>\n",
       "      <td>35</td>\n",
       "      <td>2</td>\n",
       "      <td>0</td>\n",
       "      <td>17</td>\n",
       "      <td>AGTGGGGGGGTGAGCAAGGTGGG</td>\n",
       "      <td>+</td>\n",
       "      <td>0</td>\n",
       "      <td>1.963300</td>\n",
       "    </tr>\n",
       "  </tbody>\n",
       "</table>\n",
       "</div>"
      ],
      "text/plain": [
       "  activity        gc                                           histones  \\\n",
       "0     High  8.695652  [{'name': 'h3k14ac', 'present': None}, {'name'...   \n",
       "1     High  8.695652  [{'name': 'h3k14ac', 'present': None}, {'name'...   \n",
       "2     High  8.695652  [{'name': 'h3k14ac', 'present': None}, {'name'...   \n",
       "3     High  8.695652  [{'name': 'h3k14ac', 'present': None}, {'name'...   \n",
       "4     High  8.695652  [{'name': 'h3k14ac', 'present': None}, {'name'...   \n",
       "\n",
       "   location  ot_one  ot_three  ot_two  ot_zero  position  \\\n",
       "0  12775446       0        32       3        0         4   \n",
       "1  12775453       0        17       2        0        11   \n",
       "2  12775455       0        58       3        0        13   \n",
       "3  12775458       0        64       0        0        16   \n",
       "4  12775459       0        35       2        0        17   \n",
       "\n",
       "                  sequence strand  transcription    tuscan  \n",
       "0  GGAAAAACCAAGCAGTGGGGGGG      +              0  1.720964  \n",
       "1  TTGCTCACCCCCCCACTGCTTGG      -              0  1.835650  \n",
       "2  AAGCAGTGGGGGGGTGAGCAAGG      +              0  2.182512  \n",
       "3  CAGTGGGGGGGTGAGCAAGGTGG      +              0  3.013404  \n",
       "4  AGTGGGGGGGTGAGCAAGGTGGG      +              0  1.963300  "
      ]
     },
     "execution_count": 27,
     "metadata": {},
     "output_type": "execute_result"
    }
   ],
   "source": [
    "blood_result = pd.DataFrame(json_normalize(blood_targets_response.json(), 'data'))\n",
    "blood_result.head()"
   ]
  },
  {
   "cell_type": "code",
   "execution_count": 28,
   "metadata": {},
   "outputs": [
    {
     "data": {
      "text/html": [
       "<div>\n",
       "<table border=\"1\" class=\"dataframe\">\n",
       "  <thead>\n",
       "    <tr style=\"text-align: right;\">\n",
       "      <th></th>\n",
       "      <th>activity</th>\n",
       "      <th>gc</th>\n",
       "      <th>histones</th>\n",
       "      <th>location</th>\n",
       "      <th>ot_one</th>\n",
       "      <th>ot_three</th>\n",
       "      <th>ot_two</th>\n",
       "      <th>ot_zero</th>\n",
       "      <th>position</th>\n",
       "      <th>sequence</th>\n",
       "      <th>strand</th>\n",
       "      <th>transcription</th>\n",
       "      <th>tuscan</th>\n",
       "    </tr>\n",
       "  </thead>\n",
       "  <tbody>\n",
       "    <tr>\n",
       "      <th>0</th>\n",
       "      <td>High</td>\n",
       "      <td>8.695652</td>\n",
       "      <td>[{'name': 'h3k14ac', 'present': None}, {'name'...</td>\n",
       "      <td>12775446</td>\n",
       "      <td>0</td>\n",
       "      <td>32</td>\n",
       "      <td>3</td>\n",
       "      <td>0</td>\n",
       "      <td>4</td>\n",
       "      <td>GGAAAAACCAAGCAGTGGGGGGG</td>\n",
       "      <td>+</td>\n",
       "      <td>0</td>\n",
       "      <td>1.720964</td>\n",
       "    </tr>\n",
       "    <tr>\n",
       "      <th>1</th>\n",
       "      <td>High</td>\n",
       "      <td>8.695652</td>\n",
       "      <td>[{'name': 'h3k14ac', 'present': None}, {'name'...</td>\n",
       "      <td>12775453</td>\n",
       "      <td>0</td>\n",
       "      <td>17</td>\n",
       "      <td>2</td>\n",
       "      <td>0</td>\n",
       "      <td>11</td>\n",
       "      <td>TTGCTCACCCCCCCACTGCTTGG</td>\n",
       "      <td>-</td>\n",
       "      <td>0</td>\n",
       "      <td>1.835650</td>\n",
       "    </tr>\n",
       "    <tr>\n",
       "      <th>2</th>\n",
       "      <td>High</td>\n",
       "      <td>8.695652</td>\n",
       "      <td>[{'name': 'h3k14ac', 'present': None}, {'name'...</td>\n",
       "      <td>12775455</td>\n",
       "      <td>0</td>\n",
       "      <td>58</td>\n",
       "      <td>3</td>\n",
       "      <td>0</td>\n",
       "      <td>13</td>\n",
       "      <td>AAGCAGTGGGGGGGTGAGCAAGG</td>\n",
       "      <td>+</td>\n",
       "      <td>0</td>\n",
       "      <td>2.182512</td>\n",
       "    </tr>\n",
       "    <tr>\n",
       "      <th>3</th>\n",
       "      <td>High</td>\n",
       "      <td>8.695652</td>\n",
       "      <td>[{'name': 'h3k14ac', 'present': None}, {'name'...</td>\n",
       "      <td>12775458</td>\n",
       "      <td>0</td>\n",
       "      <td>64</td>\n",
       "      <td>0</td>\n",
       "      <td>0</td>\n",
       "      <td>16</td>\n",
       "      <td>CAGTGGGGGGGTGAGCAAGGTGG</td>\n",
       "      <td>+</td>\n",
       "      <td>0</td>\n",
       "      <td>3.013404</td>\n",
       "    </tr>\n",
       "    <tr>\n",
       "      <th>4</th>\n",
       "      <td>High</td>\n",
       "      <td>8.695652</td>\n",
       "      <td>[{'name': 'h3k14ac', 'present': None}, {'name'...</td>\n",
       "      <td>12775459</td>\n",
       "      <td>0</td>\n",
       "      <td>35</td>\n",
       "      <td>2</td>\n",
       "      <td>0</td>\n",
       "      <td>17</td>\n",
       "      <td>AGTGGGGGGGTGAGCAAGGTGGG</td>\n",
       "      <td>+</td>\n",
       "      <td>0</td>\n",
       "      <td>1.963300</td>\n",
       "    </tr>\n",
       "  </tbody>\n",
       "</table>\n",
       "</div>"
      ],
      "text/plain": [
       "  activity        gc                                           histones  \\\n",
       "0     High  8.695652  [{'name': 'h3k14ac', 'present': None}, {'name'...   \n",
       "1     High  8.695652  [{'name': 'h3k14ac', 'present': None}, {'name'...   \n",
       "2     High  8.695652  [{'name': 'h3k14ac', 'present': None}, {'name'...   \n",
       "3     High  8.695652  [{'name': 'h3k14ac', 'present': None}, {'name'...   \n",
       "4     High  8.695652  [{'name': 'h3k14ac', 'present': None}, {'name'...   \n",
       "\n",
       "   location  ot_one  ot_three  ot_two  ot_zero  position  \\\n",
       "0  12775446       0        32       3        0         4   \n",
       "1  12775453       0        17       2        0        11   \n",
       "2  12775455       0        58       3        0        13   \n",
       "3  12775458       0        64       0        0        16   \n",
       "4  12775459       0        35       2        0        17   \n",
       "\n",
       "                  sequence strand  transcription    tuscan  \n",
       "0  GGAAAAACCAAGCAGTGGGGGGG      +              0  1.720964  \n",
       "1  TTGCTCACCCCCCCACTGCTTGG      -              0  1.835650  \n",
       "2  AAGCAGTGGGGGGGTGAGCAAGG      +              0  2.182512  \n",
       "3  CAGTGGGGGGGTGAGCAAGGTGG      +              0  3.013404  \n",
       "4  AGTGGGGGGGTGAGCAAGGTGGG      +              0  1.963300  "
      ]
     },
     "execution_count": 28,
     "metadata": {},
     "output_type": "execute_result"
    }
   ],
   "source": [
    "heart_result = pd.DataFrame(json_normalize(heart_targets_response.json(), 'data'))\n",
    "heart_result.head()"
   ]
  },
  {
   "cell_type": "markdown",
   "metadata": {},
   "source": [
    "Droping unwanted columns"
   ]
  },
  {
   "cell_type": "code",
   "execution_count": 29,
   "metadata": {},
   "outputs": [],
   "source": [
    "blood_result.drop(['histones', 'gc', 'position', 'transcription','ot_zero','ot_one','ot_two','ot_three'], axis = 1, inplace = True)\n",
    "heart_result.drop(['histones', 'gc', 'position', 'transcription','ot_zero','ot_one','ot_two','ot_three'], axis = 1, inplace = True)"
   ]
  },
  {
   "cell_type": "markdown",
   "metadata": {},
   "source": [
    "Renaming and reordering columns"
   ]
  },
  {
   "cell_type": "code",
   "execution_count": 30,
   "metadata": {},
   "outputs": [],
   "source": [
    "blood_result.columns = ['activity', 'location', 'sequence', 'strand','score']\n",
    "heart_result.columns = ['activity', 'location', 'sequence', 'strand','score']"
   ]
  },
  {
   "cell_type": "code",
   "execution_count": 31,
   "metadata": {},
   "outputs": [],
   "source": [
    "blood_df = blood_result[['location', 'strand', 'sequence', 'activity','score']]\n",
    "heart_df = heart_result[['location', 'strand', 'sequence', 'activity','score']]"
   ]
  },
  {
   "cell_type": "markdown",
   "metadata": {},
   "source": [
    "Note: If you find out the data are incompleted (e.g. activity missing), please go back previous steps to reload the output from GT-Scan2 through API to variables neutrophils_response and heart_response."
   ]
  },
  {
   "cell_type": "code",
   "execution_count": 32,
   "metadata": {},
   "outputs": [
    {
     "data": {
      "text/html": [
       "<div>\n",
       "<table border=\"1\" class=\"dataframe\">\n",
       "  <thead>\n",
       "    <tr style=\"text-align: right;\">\n",
       "      <th></th>\n",
       "      <th>location</th>\n",
       "      <th>strand</th>\n",
       "      <th>sequence</th>\n",
       "      <th>activity</th>\n",
       "      <th>score</th>\n",
       "    </tr>\n",
       "  </thead>\n",
       "  <tbody>\n",
       "    <tr>\n",
       "      <th>0</th>\n",
       "      <td>12775446</td>\n",
       "      <td>+</td>\n",
       "      <td>GGAAAAACCAAGCAGTGGGGGGG</td>\n",
       "      <td>High</td>\n",
       "      <td>1.720964</td>\n",
       "    </tr>\n",
       "    <tr>\n",
       "      <th>1</th>\n",
       "      <td>12775453</td>\n",
       "      <td>-</td>\n",
       "      <td>TTGCTCACCCCCCCACTGCTTGG</td>\n",
       "      <td>High</td>\n",
       "      <td>1.835650</td>\n",
       "    </tr>\n",
       "    <tr>\n",
       "      <th>2</th>\n",
       "      <td>12775455</td>\n",
       "      <td>+</td>\n",
       "      <td>AAGCAGTGGGGGGGTGAGCAAGG</td>\n",
       "      <td>High</td>\n",
       "      <td>2.182512</td>\n",
       "    </tr>\n",
       "    <tr>\n",
       "      <th>3</th>\n",
       "      <td>12775458</td>\n",
       "      <td>+</td>\n",
       "      <td>CAGTGGGGGGGTGAGCAAGGTGG</td>\n",
       "      <td>High</td>\n",
       "      <td>3.013404</td>\n",
       "    </tr>\n",
       "    <tr>\n",
       "      <th>4</th>\n",
       "      <td>12775459</td>\n",
       "      <td>+</td>\n",
       "      <td>AGTGGGGGGGTGAGCAAGGTGGG</td>\n",
       "      <td>High</td>\n",
       "      <td>1.963300</td>\n",
       "    </tr>\n",
       "  </tbody>\n",
       "</table>\n",
       "</div>"
      ],
      "text/plain": [
       "   location strand                 sequence activity     score\n",
       "0  12775446      +  GGAAAAACCAAGCAGTGGGGGGG     High  1.720964\n",
       "1  12775453      -  TTGCTCACCCCCCCACTGCTTGG     High  1.835650\n",
       "2  12775455      +  AAGCAGTGGGGGGGTGAGCAAGG     High  2.182512\n",
       "3  12775458      +  CAGTGGGGGGGTGAGCAAGGTGG     High  3.013404\n",
       "4  12775459      +  AGTGGGGGGGTGAGCAAGGTGGG     High  1.963300"
      ]
     },
     "execution_count": 32,
     "metadata": {},
     "output_type": "execute_result"
    }
   ],
   "source": [
    "blood_df.head()"
   ]
  },
  {
   "cell_type": "code",
   "execution_count": 33,
   "metadata": {},
   "outputs": [
    {
     "data": {
      "text/html": [
       "<div>\n",
       "<table border=\"1\" class=\"dataframe\">\n",
       "  <thead>\n",
       "    <tr style=\"text-align: right;\">\n",
       "      <th></th>\n",
       "      <th>location</th>\n",
       "      <th>strand</th>\n",
       "      <th>sequence</th>\n",
       "      <th>activity</th>\n",
       "      <th>score</th>\n",
       "    </tr>\n",
       "  </thead>\n",
       "  <tbody>\n",
       "    <tr>\n",
       "      <th>0</th>\n",
       "      <td>12775446</td>\n",
       "      <td>+</td>\n",
       "      <td>GGAAAAACCAAGCAGTGGGGGGG</td>\n",
       "      <td>High</td>\n",
       "      <td>1.720964</td>\n",
       "    </tr>\n",
       "    <tr>\n",
       "      <th>1</th>\n",
       "      <td>12775453</td>\n",
       "      <td>-</td>\n",
       "      <td>TTGCTCACCCCCCCACTGCTTGG</td>\n",
       "      <td>High</td>\n",
       "      <td>1.835650</td>\n",
       "    </tr>\n",
       "    <tr>\n",
       "      <th>2</th>\n",
       "      <td>12775455</td>\n",
       "      <td>+</td>\n",
       "      <td>AAGCAGTGGGGGGGTGAGCAAGG</td>\n",
       "      <td>High</td>\n",
       "      <td>2.182512</td>\n",
       "    </tr>\n",
       "    <tr>\n",
       "      <th>3</th>\n",
       "      <td>12775458</td>\n",
       "      <td>+</td>\n",
       "      <td>CAGTGGGGGGGTGAGCAAGGTGG</td>\n",
       "      <td>High</td>\n",
       "      <td>3.013404</td>\n",
       "    </tr>\n",
       "    <tr>\n",
       "      <th>4</th>\n",
       "      <td>12775459</td>\n",
       "      <td>+</td>\n",
       "      <td>AGTGGGGGGGTGAGCAAGGTGGG</td>\n",
       "      <td>High</td>\n",
       "      <td>1.963300</td>\n",
       "    </tr>\n",
       "  </tbody>\n",
       "</table>\n",
       "</div>"
      ],
      "text/plain": [
       "   location strand                 sequence activity     score\n",
       "0  12775446      +  GGAAAAACCAAGCAGTGGGGGGG     High  1.720964\n",
       "1  12775453      -  TTGCTCACCCCCCCACTGCTTGG     High  1.835650\n",
       "2  12775455      +  AAGCAGTGGGGGGGTGAGCAAGG     High  2.182512\n",
       "3  12775458      +  CAGTGGGGGGGTGAGCAAGGTGG     High  3.013404\n",
       "4  12775459      +  AGTGGGGGGGTGAGCAAGGTGGG     High  1.963300"
      ]
     },
     "execution_count": 33,
     "metadata": {},
     "output_type": "execute_result"
    }
   ],
   "source": [
    "heart_df.head()"
   ]
  },
  {
   "cell_type": "markdown",
   "metadata": {},
   "source": [
    "### Visualizing the results\n",
    "\n",
    "Like GT-Scan2 we plot the genomic location along with all possible target sites evaluated by their activity."
   ]
  },
  {
   "cell_type": "code",
   "execution_count": 34,
   "metadata": {},
   "outputs": [],
   "source": [
    "# Simulation to create random data with numpy, it's actually not real random data\n",
    "\n",
    "random_0 = random.randint(1, 100)\n",
    "random_1 = random.randint(1, 100)\n",
    "random_2 = random.randint(1, 100)\n",
    "random_3 = random.randint(1, 100)\n",
    "\n",
    "blood_random_x = blood_df['location'].loc[(blood_df['strand'] == '+') & (blood_df['activity'] == 'Low')]\n",
    "blood_random_x1 = blood_df['location'].loc[(blood_df['strand'] == '-') & (blood_df['activity'] == 'Low')]\n",
    "blood_random_x2 = blood_df['location'].loc[(blood_df['strand'] == '+') & (blood_df['activity'] == 'High')]\n",
    "blood_random_x3 = blood_df['location'].loc[(blood_df['strand'] == '-') & (blood_df['activity'] == 'High')]\n",
    "\n",
    "blood_random_y0 = blood_df['location'].loc[(blood_df['strand'] == '+') & (blood_df['activity'] == 'Low')]*random_0%100+1\n",
    "blood_random_y1 = blood_df['location'].loc[(blood_df['strand'] == '-') & (blood_df['activity'] == 'Low')]*random_1%100+1\n",
    "blood_random_y2 = blood_df['location'].loc[(blood_df['strand'] == '+') & (blood_df['activity'] == 'High')]*random_2%100+1\n",
    "blood_random_y3 = blood_df['location'].loc[(blood_df['strand'] == '-') & (blood_df['activity'] == 'High')]*random_3%100+1\n",
    "\n",
    "heart_random_x = heart_df['location'].loc[(heart_df['strand'] == '+') & (heart_df['activity'] == 'Low')]\n",
    "heart_random_x1 = heart_df['location'].loc[(heart_df['strand'] == '-') & (heart_df['activity'] == 'Low')]\n",
    "heart_random_x2 = heart_df['location'].loc[(heart_df['strand'] == '+') & (heart_df['activity'] == 'High')]\n",
    "heart_random_x3 = heart_df['location'].loc[(heart_df['strand'] == '-') & (heart_df['activity'] == 'High')]\n",
    "\n",
    "heart_random_y0 = heart_df['location'].loc[(heart_df['strand'] == '+') & (heart_df['activity'] == 'Low')]*random_0%100+1\n",
    "heart_random_y1 = heart_df['location'].loc[(heart_df['strand'] == '-') & (heart_df['activity'] == 'Low')]*random_1%100+1\n",
    "heart_random_y2 = heart_df['location'].loc[(heart_df['strand'] == '+') & (heart_df['activity'] == 'High')]*random_2%100+1\n",
    "heart_random_y3 = heart_df['location'].loc[(heart_df['strand'] == '-') & (heart_df['activity'] == 'High')]*random_3%100+1\n",
    "\n",
    "# Create traces\n",
    "blood_trace0 = go.Scatter(\n",
    "    x = blood_random_x,\n",
    "    y = blood_random_y0,\n",
    "    mode = 'markers',\n",
    "    name = '+ Low',\n",
    "    marker = dict(\n",
    "        size = 10,\n",
    "        symbol='triangle-right',\n",
    "        color='black'\n",
    "        )\n",
    ")\n",
    "blood_trace1 = go.Scatter(\n",
    "    x = blood_random_x1,\n",
    "    y = blood_random_y1,\n",
    "    mode = 'markers',\n",
    "    name = '- Low',\n",
    "     marker = dict(\n",
    "        size = 10,\n",
    "        symbol='triangle-left',\n",
    "        color='black'\n",
    "        )\n",
    ")\n",
    "\n",
    "blood_trace2 = go.Scatter(\n",
    "    x = blood_random_x2,\n",
    "    y = blood_random_y2,\n",
    "    mode = 'markers',\n",
    "    name = '+ High',\n",
    "     marker = dict(\n",
    "        size = 10,\n",
    "        symbol='triangle-right', \n",
    "        color='green'\n",
    "        )\n",
    ")\n",
    "blood_trace3 = go.Scatter(\n",
    "    x = blood_random_x3,\n",
    "    y = blood_random_y3,\n",
    "    mode = 'markers',\n",
    "    name = '- High',\n",
    "     marker = dict(\n",
    "        size = 10,\n",
    "        symbol='triangle-left',\n",
    "         color='green'\n",
    "        )\n",
    ")\n",
    "\n",
    "heart_trace0 = go.Scatter(\n",
    "    x = heart_random_x,\n",
    "    y = heart_random_y0,\n",
    "    mode = 'markers',\n",
    "    name = '+ Low',\n",
    "    marker = dict(\n",
    "        size = 10,\n",
    "        symbol='triangle-right',\n",
    "        color='black'\n",
    "        )\n",
    ")\n",
    "heart_trace1 = go.Scatter(\n",
    "    x = heart_random_x1,\n",
    "    y = heart_random_y1,\n",
    "    mode = 'markers',\n",
    "    name = '- Low',\n",
    "     marker = dict(\n",
    "        size = 10,\n",
    "        symbol='triangle-left',\n",
    "        color='black'\n",
    "        )\n",
    ")\n",
    "\n",
    "heart_trace2 = go.Scatter(\n",
    "    x = heart_random_x2,\n",
    "    y = heart_random_y2,\n",
    "    mode = 'markers',\n",
    "    name = '+ High',\n",
    "     marker = dict(\n",
    "        size = 10,\n",
    "        symbol='triangle-right', \n",
    "        color='green'\n",
    "        )\n",
    ")\n",
    "heart_trace3 = go.Scatter(\n",
    "    x = heart_random_x3,\n",
    "    y = heart_random_y3,\n",
    "    mode = 'markers',\n",
    "    name = '- High',\n",
    "     marker = dict(\n",
    "        size = 10,\n",
    "        symbol='triangle-left',\n",
    "         color='green'\n",
    "        )\n",
    ")"
   ]
  },
  {
   "cell_type": "code",
   "execution_count": 35,
   "metadata": {},
   "outputs": [
    {
     "data": {
      "text/html": [
       "<iframe id=\"igraph\" scrolling=\"no\" style=\"border:none;\" seamless=\"seamless\" src=\"https://plot.ly/~kaitaolai/57.embed\" height=\"525px\" width=\"100%\"></iframe>"
      ],
      "text/plain": [
       "<plotly.tools.PlotlyDisplay object>"
      ]
     },
     "execution_count": 35,
     "metadata": {},
     "output_type": "execute_result"
    }
   ],
   "source": [
    "blood_data = [blood_trace0, blood_trace1, blood_trace2, blood_trace3]\n",
    "py.iplot(blood_data, filename='cas9-target-sites-view-scatter-mode-1')"
   ]
  },
  {
   "cell_type": "code",
   "execution_count": 36,
   "metadata": {},
   "outputs": [
    {
     "data": {
      "text/html": [
       "<iframe id=\"igraph\" scrolling=\"no\" style=\"border:none;\" seamless=\"seamless\" src=\"https://plot.ly/~kaitaolai/59.embed\" height=\"525px\" width=\"100%\"></iframe>"
      ],
      "text/plain": [
       "<plotly.tools.PlotlyDisplay object>"
      ]
     },
     "execution_count": 36,
     "metadata": {},
     "output_type": "execute_result"
    }
   ],
   "source": [
    "heart_data = [heart_trace0, heart_trace1, heart_trace2, heart_trace3]\n",
    "py.iplot(heart_data, filename='cas9-target-sites-view-scatter-mode-2')"
   ]
  },
  {
   "cell_type": "markdown",
   "metadata": {},
   "source": [
    "## Identifying the target site active in heart but not blood\n",
    "\n",
    "First we join the dataframes and filter for the sites that are active in heart 'High' but inactive in blood 'Low'."
   ]
  },
  {
   "cell_type": "code",
   "execution_count": 37,
   "metadata": {},
   "outputs": [
    {
     "data": {
      "text/html": [
       "<div>\n",
       "<table border=\"1\" class=\"dataframe\">\n",
       "  <thead>\n",
       "    <tr style=\"text-align: right;\">\n",
       "      <th></th>\n",
       "      <th>location</th>\n",
       "      <th>strand</th>\n",
       "      <th>sequence</th>\n",
       "      <th>activity_blood</th>\n",
       "      <th>score_blood</th>\n",
       "      <th>activity_heart</th>\n",
       "      <th>score_heart</th>\n",
       "      <th>delta</th>\n",
       "    </tr>\n",
       "  </thead>\n",
       "  <tbody>\n",
       "    <tr>\n",
       "      <th>0</th>\n",
       "      <td>12775446</td>\n",
       "      <td>+</td>\n",
       "      <td>GGAAAAACCAAGCAGTGGGGGGG</td>\n",
       "      <td>High</td>\n",
       "      <td>1.720964</td>\n",
       "      <td>High</td>\n",
       "      <td>1.720964</td>\n",
       "      <td>same</td>\n",
       "    </tr>\n",
       "    <tr>\n",
       "      <th>1</th>\n",
       "      <td>12775453</td>\n",
       "      <td>-</td>\n",
       "      <td>TTGCTCACCCCCCCACTGCTTGG</td>\n",
       "      <td>High</td>\n",
       "      <td>1.835650</td>\n",
       "      <td>High</td>\n",
       "      <td>1.835650</td>\n",
       "      <td>same</td>\n",
       "    </tr>\n",
       "    <tr>\n",
       "      <th>2</th>\n",
       "      <td>12775455</td>\n",
       "      <td>+</td>\n",
       "      <td>AAGCAGTGGGGGGGTGAGCAAGG</td>\n",
       "      <td>High</td>\n",
       "      <td>2.182512</td>\n",
       "      <td>High</td>\n",
       "      <td>2.182512</td>\n",
       "      <td>same</td>\n",
       "    </tr>\n",
       "    <tr>\n",
       "      <th>3</th>\n",
       "      <td>12775458</td>\n",
       "      <td>+</td>\n",
       "      <td>CAGTGGGGGGGTGAGCAAGGTGG</td>\n",
       "      <td>High</td>\n",
       "      <td>3.013404</td>\n",
       "      <td>High</td>\n",
       "      <td>3.013404</td>\n",
       "      <td>same</td>\n",
       "    </tr>\n",
       "    <tr>\n",
       "      <th>4</th>\n",
       "      <td>12775459</td>\n",
       "      <td>+</td>\n",
       "      <td>AGTGGGGGGGTGAGCAAGGTGGG</td>\n",
       "      <td>High</td>\n",
       "      <td>1.963300</td>\n",
       "      <td>High</td>\n",
       "      <td>1.963300</td>\n",
       "      <td>same</td>\n",
       "    </tr>\n",
       "  </tbody>\n",
       "</table>\n",
       "</div>"
      ],
      "text/plain": [
       "   location strand                 sequence activity_blood  score_blood  \\\n",
       "0  12775446      +  GGAAAAACCAAGCAGTGGGGGGG           High     1.720964   \n",
       "1  12775453      -  TTGCTCACCCCCCCACTGCTTGG           High     1.835650   \n",
       "2  12775455      +  AAGCAGTGGGGGGGTGAGCAAGG           High     2.182512   \n",
       "3  12775458      +  CAGTGGGGGGGTGAGCAAGGTGG           High     3.013404   \n",
       "4  12775459      +  AGTGGGGGGGTGAGCAAGGTGGG           High     1.963300   \n",
       "\n",
       "  activity_heart  score_heart delta  \n",
       "0           High     1.720964  same  \n",
       "1           High     1.835650  same  \n",
       "2           High     2.182512  same  \n",
       "3           High     3.013404  same  \n",
       "4           High     1.963300  same  "
      ]
     },
     "execution_count": 37,
     "metadata": {},
     "output_type": "execute_result"
    }
   ],
   "source": [
    "joined = pd.merge(blood_df, heart_df, on=['location','strand','sequence'], suffixes=('_blood', '_heart'))\n",
    "joined['delta']=np.where(joined['activity_blood'] == joined['activity_heart'],'same', joined['activity_heart'])\n",
    "joined.head()"
   ]
  },
  {
   "cell_type": "code",
   "execution_count": 38,
   "metadata": {},
   "outputs": [
    {
     "data": {
      "text/html": [
       "<div>\n",
       "<table border=\"1\" class=\"dataframe\">\n",
       "  <thead>\n",
       "    <tr style=\"text-align: right;\">\n",
       "      <th></th>\n",
       "      <th>location</th>\n",
       "      <th>strand</th>\n",
       "      <th>sequence</th>\n",
       "      <th>activity_blood</th>\n",
       "      <th>score_blood</th>\n",
       "      <th>activity_heart</th>\n",
       "      <th>score_heart</th>\n",
       "      <th>delta</th>\n",
       "    </tr>\n",
       "  </thead>\n",
       "  <tbody>\n",
       "    <tr>\n",
       "      <th>85</th>\n",
       "      <td>12775775</td>\n",
       "      <td>+</td>\n",
       "      <td>CTGATGGATGGATGATAAGCTGG</td>\n",
       "      <td>Low</td>\n",
       "      <td>1.204805</td>\n",
       "      <td>High</td>\n",
       "      <td>1.204805</td>\n",
       "      <td>High</td>\n",
       "    </tr>\n",
       "    <tr>\n",
       "      <th>116</th>\n",
       "      <td>12775988</td>\n",
       "      <td>-</td>\n",
       "      <td>GAGGATGTGGTTCTAGGACAGGG</td>\n",
       "      <td>Low</td>\n",
       "      <td>1.155527</td>\n",
       "      <td>High</td>\n",
       "      <td>1.155527</td>\n",
       "      <td>High</td>\n",
       "    </tr>\n",
       "    <tr>\n",
       "      <th>134</th>\n",
       "      <td>12776045</td>\n",
       "      <td>+</td>\n",
       "      <td>GTTTGTGGGACCCAGGGAGGTGG</td>\n",
       "      <td>Low</td>\n",
       "      <td>1.181184</td>\n",
       "      <td>High</td>\n",
       "      <td>1.181184</td>\n",
       "      <td>High</td>\n",
       "    </tr>\n",
       "    <tr>\n",
       "      <th>148</th>\n",
       "      <td>12776122</td>\n",
       "      <td>-</td>\n",
       "      <td>GTGCGCAGTGGAAACCATTTAGG</td>\n",
       "      <td>Low</td>\n",
       "      <td>1.142778</td>\n",
       "      <td>High</td>\n",
       "      <td>1.142778</td>\n",
       "      <td>High</td>\n",
       "    </tr>\n",
       "    <tr>\n",
       "      <th>157</th>\n",
       "      <td>12776188</td>\n",
       "      <td>-</td>\n",
       "      <td>CTGCGAGGAAGATCAGGGCCAGG</td>\n",
       "      <td>Low</td>\n",
       "      <td>1.159563</td>\n",
       "      <td>High</td>\n",
       "      <td>1.159563</td>\n",
       "      <td>High</td>\n",
       "    </tr>\n",
       "  </tbody>\n",
       "</table>\n",
       "</div>"
      ],
      "text/plain": [
       "     location strand                 sequence activity_blood  score_blood  \\\n",
       "85   12775775      +  CTGATGGATGGATGATAAGCTGG            Low     1.204805   \n",
       "116  12775988      -  GAGGATGTGGTTCTAGGACAGGG            Low     1.155527   \n",
       "134  12776045      +  GTTTGTGGGACCCAGGGAGGTGG            Low     1.181184   \n",
       "148  12776122      -  GTGCGCAGTGGAAACCATTTAGG            Low     1.142778   \n",
       "157  12776188      -  CTGCGAGGAAGATCAGGGCCAGG            Low     1.159563   \n",
       "\n",
       "    activity_heart  score_heart delta  \n",
       "85            High     1.204805  High  \n",
       "116           High     1.155527  High  \n",
       "134           High     1.181184  High  \n",
       "148           High     1.142778  High  \n",
       "157           High     1.159563  High  "
      ]
     },
     "execution_count": 38,
     "metadata": {},
     "output_type": "execute_result"
    }
   ],
   "source": [
    "joined[joined['delta'].str.contains(\"High\")]"
   ]
  },
  {
   "cell_type": "code",
   "execution_count": 39,
   "metadata": {},
   "outputs": [
    {
     "data": {
      "text/plain": [
       "['<', '>', '<', '<', '>']"
      ]
     },
     "execution_count": 39,
     "metadata": {},
     "output_type": "execute_result"
    }
   ],
   "source": [
    "joined['label'] = joined[\"delta\"].map(str) + joined[\"strand\"] # join strand and activity for color label\n",
    "\n",
    "# create the marker array for the plot\n",
    "joined['m'] = joined.apply(lambda x: '<' if x['label'][-1]=='+' else '>', axis=1)\n",
    "marker=joined[['label','m']].drop_duplicates()['m'].values.tolist()\n",
    "marker"
   ]
  },
  {
   "cell_type": "code",
   "execution_count": 40,
   "metadata": {},
   "outputs": [
    {
     "data": {
      "text/plain": [
       "['greyish', 'greyish', 'black', 'amber', 'amber']"
      ]
     },
     "execution_count": 40,
     "metadata": {},
     "output_type": "execute_result"
    }
   ],
   "source": [
    "# create the color array for the plot\n",
    "joined['c'] = 'greyish'\n",
    "joined.loc[joined['delta']=='High', 'c'] = 'amber'\n",
    "joined.loc[joined['delta']=='Low', 'c'] = 'black'\n",
    "color=joined[['label','c']].drop_duplicates()['c'].values.tolist()\n",
    "color\n"
   ]
  },
  {
   "cell_type": "code",
   "execution_count": 41,
   "metadata": {},
   "outputs": [
    {
     "data": {
      "text/plain": [
       "[<matplotlib.lines.Line2D at 0x7f5de06b8208>]"
      ]
     },
     "execution_count": 41,
     "metadata": {},
     "output_type": "execute_result"
    },
    {
     "data": {
      "image/png": "[encoded data removed]",
      "text/plain": [
       "<matplotlib.figure.Figure at 0x7f5de0695278>"
      ]
     },
     "metadata": {},
     "output_type": "display_data"
    }
   ],
   "source": [
    "g= sns.lmplot('location', # Horizontal axis\n",
    "           'score_heart', # Vertical axis\n",
    "           data=joined, # Data source\n",
    "           fit_reg=False, # Don't fix a regression line\n",
    "           hue=\"label\", # Set color\n",
    "           palette=sns.xkcd_palette(color), # set color palette\n",
    "           markers = marker, # set marker \n",
    "              scatter_kws={\"s\": 100}, #size of the markers\n",
    "             size=7, aspect=2) #size of the image\n",
    "\n",
    "g.set(xlabel='Genomic location', ylabel='activity score')\n",
    "\n",
    "import matplotlib.pyplot as plt\n",
    "#plt.plot([12774840,12775154], [0,0], linewidth=4, c='black') #first exon\n",
    "plt.plot([12775542,12776118], [0,0], linewidth=4, c='black') #second exon\n",
    "#plt.plot([12777010,12777906], [0,0], linewidth=4, c='black') #third exon\n"
   ]
  },
  {
   "cell_type": "code",
   "execution_count": null,
   "metadata": {
    "collapsed": true
   },
   "outputs": [],
   "source": []
  }
 ],
 "metadata": {
  "kernelspec": {
   "display_name": "Python 3",
   "language": "python",
   "name": "python3"
  },
  "language_info": {
   "codemirror_mode": {
    "name": "ipython",
    "version": 3
   },
   "file_extension": ".py",
   "mimetype": "text/x-python",
   "name": "python",
   "nbconvert_exporter": "python",
   "pygments_lexer": "ipython3",
   "version": "3.6.3"
  }
 },
 "nbformat": 4,
 "nbformat_minor": 2
}
